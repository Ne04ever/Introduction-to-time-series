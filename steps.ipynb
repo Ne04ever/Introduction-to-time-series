{
 "cells": [
  {
   "cell_type": "code",
   "execution_count": null,
   "id": "510aa867",
   "metadata": {},
   "outputs": [],
   "source": [
    "#lets normalize the data\n",
    "avg,dev = m_furniture.mean(),m_furniture.std()\n",
    "n_furniture = (m_furniture - avg)/dev\n",
    "n_furniture.plot()"
   ]
  },
  {
   "cell_type": "code",
   "execution_count": null,
   "id": "f8715241",
   "metadata": {},
   "outputs": [],
   "source": [
    "#taking the first difference to fix the trent\n",
    "diff_furniture = m_furniture.diff()\n",
    "diff_furniture = diff_furniture.dropna()\n",
    "diff_furniture.plot()"
   ]
  },
  {
   "cell_type": "code",
   "execution_count": null,
   "id": "f0bd72c5",
   "metadata": {},
   "outputs": [],
   "source": [
    "# to fix the volatility\n",
    "volatility = diff_furniture.groupby(diff_furniture.index.year).std()\n",
    "volatility\n",
    "anual_volatility = diff_furniture.index.map(lambda x: volatility.loc[x.year])\n",
    "anual_volatility"
   ]
  },
  {
   "cell_type": "code",
   "execution_count": null,
   "id": "a115d08b",
   "metadata": {},
   "outputs": [],
   "source": [
    "diff_furniture2 = diff_furniture/anual_volatility\n",
    "diff_furniture2.plot()"
   ]
  },
  {
   "cell_type": "code",
   "execution_count": null,
   "id": "4cdd1ede",
   "metadata": {},
   "outputs": [],
   "source": [
    "# to fix the seasonality\n",
    "seasonal = diff_furniture2.groupby(diff_furniture2.index.month).mean()\n",
    "seasonal\n",
    "anual_seasonality = diff_furniture2.index.map(lambda x: seasonal.loc[x.month])\n",
    "stat_furniture = diff_furniture2/anual_seasonality\n",
    "stat_furniture.plot()"
   ]
  },
  {
   "cell_type": "code",
   "execution_count": null,
   "id": "534a023d",
   "metadata": {},
   "outputs": [],
   "source": []
  },
  {
   "cell_type": "code",
   "execution_count": null,
   "id": "b2062495",
   "metadata": {},
   "outputs": [],
   "source": []
  }
 ],
 "metadata": {
  "kernelspec": {
   "display_name": "Python 3 (ipykernel)",
   "language": "python",
   "name": "python3"
  },
  "language_info": {
   "codemirror_mode": {
    "name": "ipython",
    "version": 3
   },
   "file_extension": ".py",
   "mimetype": "text/x-python",
   "name": "python",
   "nbconvert_exporter": "python",
   "pygments_lexer": "ipython3",
   "version": "3.9.12"
  }
 },
 "nbformat": 4,
 "nbformat_minor": 5
}
