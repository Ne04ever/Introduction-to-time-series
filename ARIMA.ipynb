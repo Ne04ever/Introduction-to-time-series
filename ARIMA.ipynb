{
 "cells": [
  {
   "cell_type": "code",
   "execution_count": 56,
   "id": "3e2fbbd3",
   "metadata": {},
   "outputs": [],
   "source": [
    "import pandas as pd\n",
    "import numpy as np\n",
    "import matplotlib.pyplot as plt\n",
    "import pylab\n",
    "import scipy.stats\n",
    "from statsmodels.tsa.arima.model import ARIMA\n",
    "from scipy.stats.distributions import chi2\n",
    "from statsmodels.graphics.tsaplots import plot_acf,plot_pacf\n",
    "from statsmodels.tsa.stattools import adfuller\n",
    "plt.style.use('fivethirtyeight')\n",
    "from pmdarima import auto_arima"
   ]
  },
  {
   "cell_type": "code",
   "execution_count": 16,
   "id": "c5d94e51",
   "metadata": {},
   "outputs": [],
   "source": [
    "data_raw = pd.read_csv('df/Index2018.csv')"
   ]
  },
  {
   "cell_type": "code",
   "execution_count": 17,
   "id": "055d095f",
   "metadata": {},
   "outputs": [],
   "source": [
    "df = data_raw.copy()"
   ]
  },
  {
   "cell_type": "code",
   "execution_count": 18,
   "id": "fbf5777e",
   "metadata": {},
   "outputs": [
    {
     "data": {
      "text/html": [
       "<div>\n",
       "<style scoped>\n",
       "    .dataframe tbody tr th:only-of-type {\n",
       "        vertical-align: middle;\n",
       "    }\n",
       "\n",
       "    .dataframe tbody tr th {\n",
       "        vertical-align: top;\n",
       "    }\n",
       "\n",
       "    .dataframe thead th {\n",
       "        text-align: right;\n",
       "    }\n",
       "</style>\n",
       "<table border=\"1\" class=\"dataframe\">\n",
       "  <thead>\n",
       "    <tr style=\"text-align: right;\">\n",
       "      <th></th>\n",
       "      <th>spx</th>\n",
       "      <th>dax</th>\n",
       "      <th>ftse</th>\n",
       "      <th>nikkei</th>\n",
       "    </tr>\n",
       "    <tr>\n",
       "      <th>date</th>\n",
       "      <th></th>\n",
       "      <th></th>\n",
       "      <th></th>\n",
       "      <th></th>\n",
       "    </tr>\n",
       "  </thead>\n",
       "  <tbody>\n",
       "    <tr>\n",
       "      <th>1994-01-07</th>\n",
       "      <td>469.90</td>\n",
       "      <td>2224.95</td>\n",
       "      <td>3445.98</td>\n",
       "      <td>18124.01</td>\n",
       "    </tr>\n",
       "    <tr>\n",
       "      <th>1994-01-10</th>\n",
       "      <td>475.27</td>\n",
       "      <td>2225.00</td>\n",
       "      <td>3440.58</td>\n",
       "      <td>18443.44</td>\n",
       "    </tr>\n",
       "    <tr>\n",
       "      <th>1994-01-11</th>\n",
       "      <td>474.13</td>\n",
       "      <td>2228.10</td>\n",
       "      <td>3413.77</td>\n",
       "      <td>18485.25</td>\n",
       "    </tr>\n",
       "    <tr>\n",
       "      <th>1994-01-12</th>\n",
       "      <td>474.17</td>\n",
       "      <td>2182.06</td>\n",
       "      <td>3372.02</td>\n",
       "      <td>18793.88</td>\n",
       "    </tr>\n",
       "    <tr>\n",
       "      <th>1994-01-13</th>\n",
       "      <td>472.47</td>\n",
       "      <td>2142.37</td>\n",
       "      <td>3360.01</td>\n",
       "      <td>18577.26</td>\n",
       "    </tr>\n",
       "  </tbody>\n",
       "</table>\n",
       "</div>"
      ],
      "text/plain": [
       "               spx      dax     ftse    nikkei\n",
       "date                                          \n",
       "1994-01-07  469.90  2224.95  3445.98  18124.01\n",
       "1994-01-10  475.27  2225.00  3440.58  18443.44\n",
       "1994-01-11  474.13  2228.10  3413.77  18485.25\n",
       "1994-01-12  474.17  2182.06  3372.02  18793.88\n",
       "1994-01-13  472.47  2142.37  3360.01  18577.26"
      ]
     },
     "execution_count": 18,
     "metadata": {},
     "output_type": "execute_result"
    }
   ],
   "source": [
    "df.date = pd.to_datetime(df.date,dayfirst=True)\n",
    "df.set_index('date',inplace = True)\n",
    "# setting frequency\n",
    "df = df.asfreq('b')\n",
    "df.head()"
   ]
  },
  {
   "cell_type": "code",
   "execution_count": 19,
   "id": "0e1032b0",
   "metadata": {},
   "outputs": [],
   "source": [
    "df.spx = df.spx.fillna(method = 'ffill')# front filling(taking previous value)\n",
    "df.ftse = df.ftse.fillna(method = 'bfill')# back filling(taking next value)\n",
    "df.dax = df.dax.fillna(df.dax.mean())\n",
    "df.nikkei = df.nikkei.fillna(method = 'ffill')"
   ]
  },
  {
   "cell_type": "code",
   "execution_count": 20,
   "id": "c25f69d0",
   "metadata": {},
   "outputs": [
    {
     "data": {
      "text/plain": [
       "spx       0\n",
       "dax       0\n",
       "ftse      0\n",
       "nikkei    0\n",
       "dtype: int64"
      ]
     },
     "execution_count": 20,
     "metadata": {},
     "output_type": "execute_result"
    }
   ],
   "source": [
    "df.isna().sum()"
   ]
  },
  {
   "cell_type": "code",
   "execution_count": 21,
   "id": "b01ac53f",
   "metadata": {},
   "outputs": [],
   "source": [
    "ftse_df = df.ftse\n",
    "size = int(len(ftse_df)*0.8)\n",
    "ftse_train = ftse_df.iloc[:size]\n",
    "ftse_test = ftse_df.iloc[size:]"
   ]
  },
  {
   "cell_type": "code",
   "execution_count": 37,
   "id": "9a7c9950",
   "metadata": {},
   "outputs": [],
   "source": [
    "spx_df = df.spx"
   ]
  },
  {
   "cell_type": "code",
   "execution_count": 22,
   "id": "8e52579d",
   "metadata": {},
   "outputs": [],
   "source": [
    "def llr(mod1,mod2,deg = 1):\n",
    "    l1 = mod1.fit().llf\n",
    "    l2 = mod2.fit().llf\n",
    "    lr = 2*(l2-l1)\n",
    "    p = chi2.sf(lr,deg)\n",
    "    return p"
   ]
  },
  {
   "cell_type": "code",
   "execution_count": 40,
   "id": "12bd4e18",
   "metadata": {},
   "outputs": [],
   "source": [
    "returns = spx_df.pct_change().mul(100)"
   ]
  },
  {
   "cell_type": "code",
   "execution_count": 41,
   "id": "ae45edc2",
   "metadata": {},
   "outputs": [],
   "source": [
    "returns=returns.dropna()"
   ]
  },
  {
   "cell_type": "code",
   "execution_count": 39,
   "id": "8f5a0f68",
   "metadata": {},
   "outputs": [
    {
     "data": {
      "image/png": "[encoded data removed]",
      "text/plain": [
       "<Figure size 432x288 with 1 Axes>"
      ]
     },
     "metadata": {},
     "output_type": "display_data"
    }
   ],
   "source": [
    "plot_acf(spx_df);"
   ]
  },
  {
   "cell_type": "code",
   "execution_count": 38,
   "id": "9789e26a",
   "metadata": {},
   "outputs": [
    {
     "name": "stderr",
     "output_type": "stream",
     "text": [
      "C:\\Users\\vasee\\anaconda3\\lib\\site-packages\\statsmodels\\graphics\\tsaplots.py:348: FutureWarning: The default method 'yw' can produce PACF values outside of the [-1,1] interval. After 0.13, the default will change tounadjusted Yule-Walker ('ywm'). You can use this method now by setting method='ywm'.\n",
      "  warnings.warn(\n"
     ]
    },
    {
     "data": {
      "image/png": "[encoded data removed]",
      "text/plain": [
       "<Figure size 432x288 with 1 Axes>"
      ]
     },
     "metadata": {},
     "output_type": "display_data"
    }
   ],
   "source": [
    "plot_pacf(spx_df,zero = False, auto_ylims = True);"
   ]
  },
  {
   "cell_type": "markdown",
   "id": "f64caa1b",
   "metadata": {},
   "source": [
    "### ARIMA(1,1,1)"
   ]
  },
  {
   "cell_type": "code",
   "execution_count": 42,
   "id": "36c52f8b",
   "metadata": {
    "scrolled": true
   },
   "outputs": [
    {
     "data": {
      "text/html": [
       "<table class=\"simpletable\">\n",
       "<caption>SARIMAX Results</caption>\n",
       "<tr>\n",
       "  <th>Dep. Variable:</th>          <td>spx</td>       <th>  No. Observations:  </th>    <td>6277</td>   \n",
       "</tr>\n",
       "<tr>\n",
       "  <th>Model:</th>            <td>ARIMA(1, 1, 1)</td>  <th>  Log Likelihood     </th> <td>-25249.679</td>\n",
       "</tr>\n",
       "<tr>\n",
       "  <th>Date:</th>            <td>Fri, 11 Nov 2022</td> <th>  AIC                </th>  <td>50505.357</td>\n",
       "</tr>\n",
       "<tr>\n",
       "  <th>Time:</th>                <td>18:30:09</td>     <th>  BIC                </th>  <td>50525.591</td>\n",
       "</tr>\n",
       "<tr>\n",
       "  <th>Sample:</th>             <td>01-07-1994</td>    <th>  HQIC               </th>  <td>50512.368</td>\n",
       "</tr>\n",
       "<tr>\n",
       "  <th></th>                   <td>- 01-29-2018</td>   <th>                     </th>      <td> </td>    \n",
       "</tr>\n",
       "<tr>\n",
       "  <th>Covariance Type:</th>        <td>opg</td>       <th>                     </th>      <td> </td>    \n",
       "</tr>\n",
       "</table>\n",
       "<table class=\"simpletable\">\n",
       "<tr>\n",
       "     <td></td>       <th>coef</th>     <th>std err</th>      <th>z</th>      <th>P>|z|</th>  <th>[0.025</th>    <th>0.975]</th>  \n",
       "</tr>\n",
       "<tr>\n",
       "  <th>ar.L1</th>  <td>    0.6389</td> <td>    0.062</td> <td>   10.333</td> <td> 0.000</td> <td>    0.518</td> <td>    0.760</td>\n",
       "</tr>\n",
       "<tr>\n",
       "  <th>ma.L1</th>  <td>   -0.6951</td> <td>    0.057</td> <td>  -12.204</td> <td> 0.000</td> <td>   -0.807</td> <td>   -0.583</td>\n",
       "</tr>\n",
       "<tr>\n",
       "  <th>sigma2</th> <td>  182.8286</td> <td>    1.741</td> <td>  104.999</td> <td> 0.000</td> <td>  179.416</td> <td>  186.241</td>\n",
       "</tr>\n",
       "</table>\n",
       "<table class=\"simpletable\">\n",
       "<tr>\n",
       "  <th>Ljung-Box (L1) (Q):</th>     <td>0.12</td> <th>  Jarque-Bera (JB):  </th> <td>7041.27</td>\n",
       "</tr>\n",
       "<tr>\n",
       "  <th>Prob(Q):</th>                <td>0.73</td> <th>  Prob(JB):          </th>  <td>0.00</td>  \n",
       "</tr>\n",
       "<tr>\n",
       "  <th>Heteroskedasticity (H):</th> <td>1.43</td> <th>  Skew:              </th>  <td>-0.45</td> \n",
       "</tr>\n",
       "<tr>\n",
       "  <th>Prob(H) (two-sided):</th>    <td>0.00</td> <th>  Kurtosis:          </th>  <td>8.11</td>  \n",
       "</tr>\n",
       "</table><br/><br/>Warnings:<br/>[1] Covariance matrix calculated using the outer product of gradients (complex-step)."
      ],
      "text/plain": [
       "<class 'statsmodels.iolib.summary.Summary'>\n",
       "\"\"\"\n",
       "                               SARIMAX Results                                \n",
       "==============================================================================\n",
       "Dep. Variable:                    spx   No. Observations:                 6277\n",
       "Model:                 ARIMA(1, 1, 1)   Log Likelihood              -25249.679\n",
       "Date:                Fri, 11 Nov 2022   AIC                          50505.357\n",
       "Time:                        18:30:09   BIC                          50525.591\n",
       "Sample:                    01-07-1994   HQIC                         50512.368\n",
       "                         - 01-29-2018                                         \n",
       "Covariance Type:                  opg                                         \n",
       "==============================================================================\n",
       "                 coef    std err          z      P>|z|      [0.025      0.975]\n",
       "------------------------------------------------------------------------------\n",
       "ar.L1          0.6389      0.062     10.333      0.000       0.518       0.760\n",
       "ma.L1         -0.6951      0.057    -12.204      0.000      -0.807      -0.583\n",
       "sigma2       182.8286      1.741    104.999      0.000     179.416     186.241\n",
       "===================================================================================\n",
       "Ljung-Box (L1) (Q):                   0.12   Jarque-Bera (JB):              7041.27\n",
       "Prob(Q):                              0.73   Prob(JB):                         0.00\n",
       "Heteroskedasticity (H):               1.43   Skew:                            -0.45\n",
       "Prob(H) (two-sided):                  0.00   Kurtosis:                         8.11\n",
       "===================================================================================\n",
       "\n",
       "Warnings:\n",
       "[1] Covariance matrix calculated using the outer product of gradients (complex-step).\n",
       "\"\"\""
      ]
     },
     "execution_count": 42,
     "metadata": {},
     "output_type": "execute_result"
    }
   ],
   "source": [
    "arima_111 = ARIMA(spx_df,order = (1,1,1)) \n",
    "arima_result_111 = arima_111.fit()\n",
    "arima_result_111.summary()"
   ]
  },
  {
   "cell_type": "code",
   "execution_count": 43,
   "id": "901295b7",
   "metadata": {},
   "outputs": [],
   "source": [
    "residual111 = arima_result_111.resid"
   ]
  },
  {
   "cell_type": "code",
   "execution_count": 50,
   "id": "d7d95380",
   "metadata": {},
   "outputs": [
    {
     "data": {
      "image/png": "[encoded data removed]",
      "text/plain": [
       "<Figure size 432x288 with 1 Axes>"
      ]
     },
     "metadata": {},
     "output_type": "display_data"
    }
   ],
   "source": [
    "plot_acf(residual111,zero = False, auto_ylims = True);"
   ]
  },
  {
   "cell_type": "code",
   "execution_count": 46,
   "id": "2b4b4b7d",
   "metadata": {},
   "outputs": [
    {
     "name": "stderr",
     "output_type": "stream",
     "text": [
      "C:\\Users\\vasee\\anaconda3\\lib\\site-packages\\statsmodels\\tsa\\statespace\\sarimax.py:978: UserWarning: Non-invertible starting MA parameters found. Using zeros as starting parameters.\n",
      "  warn('Non-invertible starting MA parameters found.'\n"
     ]
    }
   ],
   "source": [
    "arima_112 = ARIMA(spx_df,order = (1,1,2)) \n",
    "arima_result_112 = arima_112.fit()\n",
    "arima_113 = ARIMA(spx_df,order = (1,1,3)) \n",
    "arima_result_113 = arima_113.fit()\n",
    "arima_211 = ARIMA(spx_df,order = (2,1,1)) \n",
    "arima_result_211 = arima_211.fit()\n",
    "arima_311 = ARIMA(spx_df,order = (3,1,1)) \n",
    "arima_result_311 = arima_311.fit()\n",
    "arima_312 = ARIMA(spx_df,order = (3,1,2)) \n",
    "arima_result_312 = arima_312.fit()"
   ]
  },
  {
   "cell_type": "code",
   "execution_count": 48,
   "id": "282d81a1",
   "metadata": {
    "scrolled": true
   },
   "outputs": [
    {
     "name": "stdout",
     "output_type": "stream",
     "text": [
      "ARIMA112 LLR =  -25249.54574645305 \tARIMA112 AIC = 50507.0914929061\n",
      "ARIMA113 LLR =  -25249.54994180533 \tARIMA113 AIC = 50509.09988361066\n",
      "ARIMA211 LLR =  -25249.545261464034 \tARIMA211 AIC = 50507.09052292807\n",
      "ARIMA311 LLR =  -25249.543592894464 \tARIMA311 AIC = 50509.08718578893\n",
      "ARIMA312 LLR =  -25254.561078763214 \tARIMA312 AIC = 50521.12215752643\n"
     ]
    }
   ],
   "source": [
    "print('ARIMA112 LLR = ',arima_result_112.llf,'\\tARIMA112 AIC =',arima_result_112.aic)\n",
    "print('ARIMA113 LLR = ',arima_result_113.llf,'\\tARIMA113 AIC =',arima_result_113.aic)\n",
    "print('ARIMA211 LLR = ',arima_result_211.llf,'\\tARIMA211 AIC =',arima_result_211.aic)\n",
    "print('ARIMA311 LLR = ',arima_result_311.llf,'\\tARIMA311 AIC =',arima_result_311.aic)\n",
    "print('ARIMA312 LLR = ',arima_result_312.llf,'\\tARIMA312 AIC =',arima_result_312.aic)"
   ]
  },
  {
   "cell_type": "markdown",
   "id": "18feb4a4",
   "metadata": {},
   "source": [
    "Arima 311 performs compairatively well"
   ]
  },
  {
   "cell_type": "code",
   "execution_count": 49,
   "id": "242528d1",
   "metadata": {},
   "outputs": [
    {
     "data": {
      "text/plain": [
       "<AxesSubplot:xlabel='date'>"
      ]
     },
     "execution_count": 49,
     "metadata": {},
     "output_type": "execute_result"
    },
    {
     "data": {
      "image/png": "[encoded data removed]",
      "text/plain": [
       "<Figure size 432x288 with 1 Axes>"
      ]
     },
     "metadata": {},
     "output_type": "display_data"
    }
   ],
   "source": [
    "resid311 = arima_result_311.resid\n",
    "resid311.plot()"
   ]
  },
  {
   "cell_type": "code",
   "execution_count": null,
   "id": "dd931d5e",
   "metadata": {},
   "outputs": [],
   "source": [
    "plot_acf(residual111,zero = False, auto_ylims = True);"
   ]
  },
  {
   "cell_type": "code",
   "execution_count": 51,
   "id": "a78be888",
   "metadata": {},
   "outputs": [
    {
     "data": {
      "image/png": "[encoded data removed]",
      "text/plain": [
       "<Figure size 432x288 with 1 Axes>"
      ]
     },
     "metadata": {},
     "output_type": "display_data"
    }
   ],
   "source": [
    "plot_acf(resid311,zero = False, auto_ylims = True);"
   ]
  },
  {
   "cell_type": "code",
   "execution_count": null,
   "id": "230bc09f",
   "metadata": {},
   "outputs": [],
   "source": []
  },
  {
   "cell_type": "markdown",
   "id": "cb9c9085",
   "metadata": {},
   "source": [
    "## ARIMAX"
   ]
  },
  {
   "cell_type": "code",
   "execution_count": 52,
   "id": "89eb6d20",
   "metadata": {},
   "outputs": [
    {
     "data": {
      "text/html": [
       "<table class=\"simpletable\">\n",
       "<caption>SARIMAX Results</caption>\n",
       "<tr>\n",
       "  <th>Dep. Variable:</th>          <td>spx</td>       <th>  No. Observations:  </th>    <td>6277</td>   \n",
       "</tr>\n",
       "<tr>\n",
       "  <th>Model:</th>            <td>ARIMA(1, 1, 1)</td>  <th>  Log Likelihood     </th> <td>-24056.580</td>\n",
       "</tr>\n",
       "<tr>\n",
       "  <th>Date:</th>            <td>Fri, 11 Nov 2022</td> <th>  AIC                </th>  <td>48121.160</td>\n",
       "</tr>\n",
       "<tr>\n",
       "  <th>Time:</th>                <td>22:29:27</td>     <th>  BIC                </th>  <td>48148.138</td>\n",
       "</tr>\n",
       "<tr>\n",
       "  <th>Sample:</th>             <td>01-07-1994</td>    <th>  HQIC               </th>  <td>48130.507</td>\n",
       "</tr>\n",
       "<tr>\n",
       "  <th></th>                   <td>- 01-29-2018</td>   <th>                     </th>      <td> </td>    \n",
       "</tr>\n",
       "<tr>\n",
       "  <th>Covariance Type:</th>        <td>opg</td>       <th>                     </th>      <td> </td>    \n",
       "</tr>\n",
       "</table>\n",
       "<table class=\"simpletable\">\n",
       "<tr>\n",
       "     <td></td>       <th>coef</th>     <th>std err</th>      <th>z</th>      <th>P>|z|</th>  <th>[0.025</th>    <th>0.975]</th>  \n",
       "</tr>\n",
       "<tr>\n",
       "  <th>ftse</th>   <td>    0.1375</td> <td>    0.002</td> <td>   88.068</td> <td> 0.000</td> <td>    0.134</td> <td>    0.141</td>\n",
       "</tr>\n",
       "<tr>\n",
       "  <th>ar.L1</th>  <td>    0.0398</td> <td>    0.024</td> <td>    1.643</td> <td> 0.100</td> <td>   -0.008</td> <td>    0.087</td>\n",
       "</tr>\n",
       "<tr>\n",
       "  <th>ma.L1</th>  <td>   -0.3493</td> <td>    0.022</td> <td>  -15.782</td> <td> 0.000</td> <td>   -0.393</td> <td>   -0.306</td>\n",
       "</tr>\n",
       "<tr>\n",
       "  <th>sigma2</th> <td>  125.0016</td> <td>    1.265</td> <td>   98.850</td> <td> 0.000</td> <td>  122.523</td> <td>  127.480</td>\n",
       "</tr>\n",
       "</table>\n",
       "<table class=\"simpletable\">\n",
       "<tr>\n",
       "  <th>Ljung-Box (L1) (Q):</th>     <td>0.02</td> <th>  Jarque-Bera (JB):  </th> <td>5113.98</td>\n",
       "</tr>\n",
       "<tr>\n",
       "  <th>Prob(Q):</th>                <td>0.88</td> <th>  Prob(JB):          </th>  <td>0.00</td>  \n",
       "</tr>\n",
       "<tr>\n",
       "  <th>Heteroskedasticity (H):</th> <td>1.04</td> <th>  Skew:              </th>  <td>-0.25</td> \n",
       "</tr>\n",
       "<tr>\n",
       "  <th>Prob(H) (two-sided):</th>    <td>0.41</td> <th>  Kurtosis:          </th>  <td>7.39</td>  \n",
       "</tr>\n",
       "</table><br/><br/>Warnings:<br/>[1] Covariance matrix calculated using the outer product of gradients (complex-step)."
      ],
      "text/plain": [
       "<class 'statsmodels.iolib.summary.Summary'>\n",
       "\"\"\"\n",
       "                               SARIMAX Results                                \n",
       "==============================================================================\n",
       "Dep. Variable:                    spx   No. Observations:                 6277\n",
       "Model:                 ARIMA(1, 1, 1)   Log Likelihood              -24056.580\n",
       "Date:                Fri, 11 Nov 2022   AIC                          48121.160\n",
       "Time:                        22:29:27   BIC                          48148.138\n",
       "Sample:                    01-07-1994   HQIC                         48130.507\n",
       "                         - 01-29-2018                                         \n",
       "Covariance Type:                  opg                                         \n",
       "==============================================================================\n",
       "                 coef    std err          z      P>|z|      [0.025      0.975]\n",
       "------------------------------------------------------------------------------\n",
       "ftse           0.1375      0.002     88.068      0.000       0.134       0.141\n",
       "ar.L1          0.0398      0.024      1.643      0.100      -0.008       0.087\n",
       "ma.L1         -0.3493      0.022    -15.782      0.000      -0.393      -0.306\n",
       "sigma2       125.0016      1.265     98.850      0.000     122.523     127.480\n",
       "===================================================================================\n",
       "Ljung-Box (L1) (Q):                   0.02   Jarque-Bera (JB):              5113.98\n",
       "Prob(Q):                              0.88   Prob(JB):                         0.00\n",
       "Heteroskedasticity (H):               1.04   Skew:                            -0.25\n",
       "Prob(H) (two-sided):                  0.41   Kurtosis:                         7.39\n",
       "===================================================================================\n",
       "\n",
       "Warnings:\n",
       "[1] Covariance matrix calculated using the outer product of gradients (complex-step).\n",
       "\"\"\""
      ]
     },
     "execution_count": 52,
     "metadata": {},
     "output_type": "execute_result"
    }
   ],
   "source": [
    "arima_111spx = ARIMA(spx_df,exog=ftse_df,order = (1,1,1)) \n",
    "arima_result_111spx = arima_111.fit()\n",
    "arima_result_111spx.summary()"
   ]
  },
  {
   "cell_type": "markdown",
   "id": "f7b31e88",
   "metadata": {},
   "source": [
    "# SARIMAX"
   ]
  },
  {
   "cell_type": "code",
   "execution_count": 53,
   "id": "a3955615",
   "metadata": {},
   "outputs": [],
   "source": [
    "from statsmodels.tsa.statespace.sarimax import SARIMAX"
   ]
  },
  {
   "cell_type": "code",
   "execution_count": 63,
   "id": "eaa2f3c1",
   "metadata": {},
   "outputs": [
    {
     "name": "stderr",
     "output_type": "stream",
     "text": [
      "C:\\Users\\vasee\\anaconda3\\lib\\site-packages\\statsmodels\\tsa\\statespace\\sarimax.py:966: UserWarning: Non-stationary starting autoregressive parameters found. Using zeros as starting parameters.\n",
      "  warn('Non-stationary starting autoregressive parameters'\n",
      "C:\\Users\\vasee\\anaconda3\\lib\\site-packages\\statsmodels\\tsa\\statespace\\sarimax.py:997: UserWarning: Non-stationary starting seasonal autoregressive Using zeros as starting parameters.\n",
      "  warn('Non-stationary starting seasonal autoregressive'\n",
      "C:\\Users\\vasee\\anaconda3\\lib\\site-packages\\statsmodels\\base\\model.py:604: ConvergenceWarning: Maximum Likelihood optimization failed to converge. Check mle_retvals\n",
      "  warnings.warn(\"Maximum Likelihood optimization failed to \"\n"
     ]
    },
    {
     "data": {
      "text/html": [
       "<table class=\"simpletable\">\n",
       "<caption>SARIMAX Results</caption>\n",
       "<tr>\n",
       "  <th>Dep. Variable:</th>                <td>spx</td>              <th>  No. Observations:  </th>    <td>6277</td>   \n",
       "</tr>\n",
       "<tr>\n",
       "  <th>Model:</th>           <td>SARIMAX(1, 0, 1)x(2, 0, 1, 5)</td> <th>  Log Likelihood     </th> <td>-24066.643</td>\n",
       "</tr>\n",
       "<tr>\n",
       "  <th>Date:</th>                  <td>Sun, 13 Nov 2022</td>        <th>  AIC                </th>  <td>48147.286</td>\n",
       "</tr>\n",
       "<tr>\n",
       "  <th>Time:</th>                      <td>19:11:04</td>            <th>  BIC                </th>  <td>48194.499</td>\n",
       "</tr>\n",
       "<tr>\n",
       "  <th>Sample:</th>                   <td>01-07-1994</td>           <th>  HQIC               </th>  <td>48163.644</td>\n",
       "</tr>\n",
       "<tr>\n",
       "  <th></th>                         <td>- 01-29-2018</td>          <th>                     </th>      <td> </td>    \n",
       "</tr>\n",
       "<tr>\n",
       "  <th>Covariance Type:</th>              <td>opg</td>              <th>                     </th>      <td> </td>    \n",
       "</tr>\n",
       "</table>\n",
       "<table class=\"simpletable\">\n",
       "<tr>\n",
       "      <td></td>        <th>coef</th>     <th>std err</th>      <th>z</th>      <th>P>|z|</th>  <th>[0.025</th>    <th>0.975]</th>  \n",
       "</tr>\n",
       "<tr>\n",
       "  <th>ftse</th>     <td>    0.1383</td> <td>    0.002</td> <td>   90.816</td> <td> 0.000</td> <td>    0.135</td> <td>    0.141</td>\n",
       "</tr>\n",
       "<tr>\n",
       "  <th>ar.L1</th>    <td>    0.9998</td> <td>    0.000</td> <td> 3650.832</td> <td> 0.000</td> <td>    0.999</td> <td>    1.000</td>\n",
       "</tr>\n",
       "<tr>\n",
       "  <th>ma.L1</th>    <td>   -0.3140</td> <td>    0.007</td> <td>  -44.383</td> <td> 0.000</td> <td>   -0.328</td> <td>   -0.300</td>\n",
       "</tr>\n",
       "<tr>\n",
       "  <th>ar.S.L5</th>  <td>    0.9770</td> <td>    0.009</td> <td>  111.690</td> <td> 0.000</td> <td>    0.960</td> <td>    0.994</td>\n",
       "</tr>\n",
       "<tr>\n",
       "  <th>ar.S.L10</th> <td>    0.0229</td> <td>    0.009</td> <td>    2.626</td> <td> 0.009</td> <td>    0.006</td> <td>    0.040</td>\n",
       "</tr>\n",
       "<tr>\n",
       "  <th>ma.S.L5</th>  <td>   -0.9991</td> <td>    0.002</td> <td> -508.307</td> <td> 0.000</td> <td>   -1.003</td> <td>   -0.995</td>\n",
       "</tr>\n",
       "<tr>\n",
       "  <th>sigma2</th>   <td>  125.3641</td> <td>    1.300</td> <td>   96.416</td> <td> 0.000</td> <td>  122.816</td> <td>  127.913</td>\n",
       "</tr>\n",
       "</table>\n",
       "<table class=\"simpletable\">\n",
       "<tr>\n",
       "  <th>Ljung-Box (L1) (Q):</th>     <td>0.02</td> <th>  Jarque-Bera (JB):  </th> <td>5108.64</td>\n",
       "</tr>\n",
       "<tr>\n",
       "  <th>Prob(Q):</th>                <td>0.90</td> <th>  Prob(JB):          </th>  <td>0.00</td>  \n",
       "</tr>\n",
       "<tr>\n",
       "  <th>Heteroskedasticity (H):</th> <td>1.03</td> <th>  Skew:              </th>  <td>-0.25</td> \n",
       "</tr>\n",
       "<tr>\n",
       "  <th>Prob(H) (two-sided):</th>    <td>0.46</td> <th>  Kurtosis:          </th>  <td>7.39</td>  \n",
       "</tr>\n",
       "</table><br/><br/>Warnings:<br/>[1] Covariance matrix calculated using the outer product of gradients (complex-step)."
      ],
      "text/plain": [
       "<class 'statsmodels.iolib.summary.Summary'>\n",
       "\"\"\"\n",
       "                                     SARIMAX Results                                     \n",
       "=========================================================================================\n",
       "Dep. Variable:                               spx   No. Observations:                 6277\n",
       "Model:             SARIMAX(1, 0, 1)x(2, 0, 1, 5)   Log Likelihood              -24066.643\n",
       "Date:                           Sun, 13 Nov 2022   AIC                          48147.286\n",
       "Time:                                   19:11:04   BIC                          48194.499\n",
       "Sample:                               01-07-1994   HQIC                         48163.644\n",
       "                                    - 01-29-2018                                         \n",
       "Covariance Type:                             opg                                         \n",
       "==============================================================================\n",
       "                 coef    std err          z      P>|z|      [0.025      0.975]\n",
       "------------------------------------------------------------------------------\n",
       "ftse           0.1383      0.002     90.816      0.000       0.135       0.141\n",
       "ar.L1          0.9998      0.000   3650.832      0.000       0.999       1.000\n",
       "ma.L1         -0.3140      0.007    -44.383      0.000      -0.328      -0.300\n",
       "ar.S.L5        0.9770      0.009    111.690      0.000       0.960       0.994\n",
       "ar.S.L10       0.0229      0.009      2.626      0.009       0.006       0.040\n",
       "ma.S.L5       -0.9991      0.002   -508.307      0.000      -1.003      -0.995\n",
       "sigma2       125.3641      1.300     96.416      0.000     122.816     127.913\n",
       "===================================================================================\n",
       "Ljung-Box (L1) (Q):                   0.02   Jarque-Bera (JB):              5108.64\n",
       "Prob(Q):                              0.90   Prob(JB):                         0.00\n",
       "Heteroskedasticity (H):               1.03   Skew:                            -0.25\n",
       "Prob(H) (two-sided):                  0.46   Kurtosis:                         7.39\n",
       "===================================================================================\n",
       "\n",
       "Warnings:\n",
       "[1] Covariance matrix calculated using the outer product of gradients (complex-step).\n",
       "\"\"\""
      ]
     },
     "execution_count": 63,
     "metadata": {},
     "output_type": "execute_result"
    }
   ],
   "source": [
    "sarimax_model = SARIMAX(spx_df,exog=ftse_df,order = (1,0,1),seasonal_order=(2,0,1,5)) \n",
    "sarima_result = sarimax_model.fit()\n",
    "sarima_result.summary()"
   ]
  },
  {
   "cell_type": "markdown",
   "id": "805ecf78",
   "metadata": {},
   "source": [
    "## AUTO ARIMA\n"
   ]
  },
  {
   "cell_type": "code",
   "execution_count": 60,
   "id": "b57d16f3",
   "metadata": {},
   "outputs": [],
   "source": [
    "order = auto_arima(returns)"
   ]
  },
  {
   "cell_type": "code",
   "execution_count": 62,
   "id": "a587b960",
   "metadata": {},
   "outputs": [
    {
     "data": {
      "text/plain": [
       "ARIMA(order=(1, 0, 1), scoring_args={}, suppress_warnings=True)"
      ]
     },
     "execution_count": 62,
     "metadata": {},
     "output_type": "execute_result"
    }
   ],
   "source": [
    "order"
   ]
  },
  {
   "cell_type": "code",
   "execution_count": 61,
   "id": "86433b56",
   "metadata": {
    "scrolled": true
   },
   "outputs": [
    {
     "data": {
      "text/html": [
       "<table class=\"simpletable\">\n",
       "<caption>SARIMAX Results</caption>\n",
       "<tr>\n",
       "  <th>Dep. Variable:</th>           <td>y</td>        <th>  No. Observations:  </th>   <td>6276</td>   \n",
       "</tr>\n",
       "<tr>\n",
       "  <th>Model:</th>           <td>SARIMAX(1, 0, 1)</td> <th>  Log Likelihood     </th> <td>-9658.301</td>\n",
       "</tr>\n",
       "<tr>\n",
       "  <th>Date:</th>            <td>Sun, 13 Nov 2022</td> <th>  AIC                </th> <td>19324.603</td>\n",
       "</tr>\n",
       "<tr>\n",
       "  <th>Time:</th>                <td>19:07:22</td>     <th>  BIC                </th> <td>19351.581</td>\n",
       "</tr>\n",
       "<tr>\n",
       "  <th>Sample:</th>             <td>01-10-1994</td>    <th>  HQIC               </th> <td>19333.950</td>\n",
       "</tr>\n",
       "<tr>\n",
       "  <th></th>                   <td>- 01-29-2018</td>   <th>                     </th>     <td> </td>    \n",
       "</tr>\n",
       "<tr>\n",
       "  <th>Covariance Type:</th>        <td>opg</td>       <th>                     </th>     <td> </td>    \n",
       "</tr>\n",
       "</table>\n",
       "<table class=\"simpletable\">\n",
       "<tr>\n",
       "      <td></td>         <th>coef</th>     <th>std err</th>      <th>z</th>      <th>P>|z|</th>  <th>[0.025</th>    <th>0.975]</th>  \n",
       "</tr>\n",
       "<tr>\n",
       "  <th>intercept</th> <td>    0.0127</td> <td>    0.005</td> <td>    2.486</td> <td> 0.013</td> <td>    0.003</td> <td>    0.023</td>\n",
       "</tr>\n",
       "<tr>\n",
       "  <th>ar.L1</th>     <td>    0.6374</td> <td>    0.046</td> <td>   13.989</td> <td> 0.000</td> <td>    0.548</td> <td>    0.727</td>\n",
       "</tr>\n",
       "<tr>\n",
       "  <th>ma.L1</th>     <td>   -0.7035</td> <td>    0.041</td> <td>  -17.081</td> <td> 0.000</td> <td>   -0.784</td> <td>   -0.623</td>\n",
       "</tr>\n",
       "<tr>\n",
       "  <th>sigma2</th>    <td>    1.2712</td> <td>    0.010</td> <td>  125.917</td> <td> 0.000</td> <td>    1.251</td> <td>    1.291</td>\n",
       "</tr>\n",
       "</table>\n",
       "<table class=\"simpletable\">\n",
       "<tr>\n",
       "  <th>Ljung-Box (L1) (Q):</th>     <td>0.19</td> <th>  Jarque-Bera (JB):  </th> <td>20263.76</td>\n",
       "</tr>\n",
       "<tr>\n",
       "  <th>Prob(Q):</th>                <td>0.66</td> <th>  Prob(JB):          </th>   <td>0.00</td>  \n",
       "</tr>\n",
       "<tr>\n",
       "  <th>Heteroskedasticity (H):</th> <td>0.74</td> <th>  Skew:              </th>   <td>-0.27</td> \n",
       "</tr>\n",
       "<tr>\n",
       "  <th>Prob(H) (two-sided):</th>    <td>0.00</td> <th>  Kurtosis:          </th>   <td>11.79</td> \n",
       "</tr>\n",
       "</table><br/><br/>Warnings:<br/>[1] Covariance matrix calculated using the outer product of gradients (complex-step)."
      ],
      "text/plain": [
       "<class 'statsmodels.iolib.summary.Summary'>\n",
       "\"\"\"\n",
       "                               SARIMAX Results                                \n",
       "==============================================================================\n",
       "Dep. Variable:                      y   No. Observations:                 6276\n",
       "Model:               SARIMAX(1, 0, 1)   Log Likelihood               -9658.301\n",
       "Date:                Sun, 13 Nov 2022   AIC                          19324.603\n",
       "Time:                        19:07:22   BIC                          19351.581\n",
       "Sample:                    01-10-1994   HQIC                         19333.950\n",
       "                         - 01-29-2018                                         \n",
       "Covariance Type:                  opg                                         \n",
       "==============================================================================\n",
       "                 coef    std err          z      P>|z|      [0.025      0.975]\n",
       "------------------------------------------------------------------------------\n",
       "intercept      0.0127      0.005      2.486      0.013       0.003       0.023\n",
       "ar.L1          0.6374      0.046     13.989      0.000       0.548       0.727\n",
       "ma.L1         -0.7035      0.041    -17.081      0.000      -0.784      -0.623\n",
       "sigma2         1.2712      0.010    125.917      0.000       1.251       1.291\n",
       "===================================================================================\n",
       "Ljung-Box (L1) (Q):                   0.19   Jarque-Bera (JB):             20263.76\n",
       "Prob(Q):                              0.66   Prob(JB):                         0.00\n",
       "Heteroskedasticity (H):               0.74   Skew:                            -0.27\n",
       "Prob(H) (two-sided):                  0.00   Kurtosis:                        11.79\n",
       "===================================================================================\n",
       "\n",
       "Warnings:\n",
       "[1] Covariance matrix calculated using the outer product of gradients (complex-step).\n",
       "\"\"\""
      ]
     },
     "execution_count": 61,
     "metadata": {},
     "output_type": "execute_result"
    }
   ],
   "source": [
    "oder.summary()"
   ]
  },
  {
   "cell_type": "code",
   "execution_count": null,
   "id": "ae571ec2",
   "metadata": {},
   "outputs": [],
   "source": []
  },
  {
   "cell_type": "code",
   "execution_count": null,
   "id": "a88fecca",
   "metadata": {},
   "outputs": [],
   "source": []
  },
  {
   "cell_type": "code",
   "execution_count": null,
   "id": "52f6b3a7",
   "metadata": {},
   "outputs": [],
   "source": []
  },
  {
   "cell_type": "code",
   "execution_count": null,
   "id": "c66f3e11",
   "metadata": {},
   "outputs": [],
   "source": []
  },
  {
   "cell_type": "code",
   "execution_count": null,
   "id": "067cff04",
   "metadata": {},
   "outputs": [],
   "source": []
  }
 ],
 "metadata": {
  "kernelspec": {
   "display_name": "Python 3 (ipykernel)",
   "language": "python",
   "name": "python3"
  },
  "language_info": {
   "codemirror_mode": {
    "name": "ipython",
    "version": 3
   },
   "file_extension": ".py",
   "mimetype": "text/x-python",
   "name": "python",
   "nbconvert_exporter": "python",
   "pygments_lexer": "ipython3",
   "version": "3.9.12"
  }
 },
 "nbformat": 4,
 "nbformat_minor": 5
}
